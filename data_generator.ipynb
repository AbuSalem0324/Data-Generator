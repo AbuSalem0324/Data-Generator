{
 "cells": [
  {
   "cell_type": "code",
   "execution_count": 1,
   "metadata": {},
   "outputs": [],
   "source": [
    "import numpy as np\n",
    "import pandas as pd\n",
    "import random\n",
    "from datetime import datetime, timedelta"
   ]
  },
  {
   "cell_type": "code",
   "execution_count": 2,
   "metadata": {},
   "outputs": [],
   "source": [
    "# Set random seed for reproducibility\n",
    "np.random.seed(42)\n",
    "random.seed(42)\n",
    "\n",
    "# Constants\n",
    "NUM_CUSTOMERS = 1000"
   ]
  },
  {
   "cell_type": "code",
   "execution_count": 3,
   "metadata": {},
   "outputs": [],
   "source": [
    "def generate_customer_id(num_customers):\n",
    "    return [f\"CUST_{i+1:04d}\" for i in range(num_customers)]\n",
    "\n",
    "def generate_age(num_customers):\n",
    "    return np.random.normal(loc=40, scale=12, size=num_customers).astype(int)\n",
    "\n",
    "def generate_gender(num_customers):\n",
    "    return np.random.choice(['Male', 'Female'], size=num_customers)\n",
    "\n",
    "def generate_annual_income(num_customers):\n",
    "    return np.random.normal(loc=70000, scale=15000, size=num_customers).astype(int)\n",
    "\n",
    "def generate_spending_score(num_customers):\n",
    "    return np.random.randint(1, 101, size=num_customers)\n",
    "\n",
    "def generate_purchase_history(num_customers):\n",
    "    return [random.choices(range(100, 10000), k=random.randint(1, 10)) for _ in range(num_customers)]\n",
    "\n",
    "def generate_last_purchase_date(num_customers):\n",
    "    start_date = datetime(2023, 1, 1)\n",
    "    return [start_date + timedelta(days=random.randint(0, 365)) for _ in range(num_customers)]\n",
    "\n",
    "def generate_membership_status(num_customers):\n",
    "    return np.random.choice(['Regular', 'Silver', 'Gold'], size=num_customers, p=[0.7, 0.2, 0.1])"
   ]
  },
  {
   "cell_type": "code",
   "execution_count": 4,
   "metadata": {},
   "outputs": [],
   "source": [
    "customer_id = generate_customer_id(NUM_CUSTOMERS)\n",
    "age = generate_age(NUM_CUSTOMERS)\n",
    "gender = generate_gender(NUM_CUSTOMERS)\n",
    "annual_income = generate_annual_income(NUM_CUSTOMERS)\n",
    "spending_score = generate_spending_score(NUM_CUSTOMERS)\n",
    "purchase_history = generate_purchase_history(NUM_CUSTOMERS)\n",
    "last_purchase_date = generate_last_purchase_date(NUM_CUSTOMERS)\n",
    "membership_status = generate_membership_status(NUM_CUSTOMERS)"
   ]
  },
  {
   "cell_type": "code",
   "execution_count": 5,
   "metadata": {},
   "outputs": [],
   "source": [
    "df = pd.DataFrame({\n",
    "    'CustomerID': customer_id,\n",
    "    'Age': age,\n",
    "    'Gender': gender,\n",
    "    'AnnualIncome': annual_income,\n",
    "    'SpendingScore': spending_score,\n",
    "    'PurchaseHistory': purchase_history,\n",
    "    'LastPurchaseDate': last_purchase_date,\n",
    "    'MembershipStatus': membership_status\n",
    "})\n"
   ]
  },
  {
   "cell_type": "code",
   "execution_count": 6,
   "metadata": {},
   "outputs": [],
   "source": [
    "#Introduce flaws: missing values\n",
    "for _ in range(int(NUM_CUSTOMERS * 0.05)):  # 5% missing values\n",
    "    df.loc[random.randint(0, NUM_CUSTOMERS-1), random.choice(df.columns)] = np.nan\n",
    "\n",
    "# Introduce flaws: outliers\n",
    "for _ in range(int(NUM_CUSTOMERS * 0.01)):  # 1% outliers\n",
    "    df.loc[random.randint(0, NUM_CUSTOMERS-1), 'AnnualIncome'] = random.randint(200000, 500000)\n"
   ]
  },
  {
   "cell_type": "code",
   "execution_count": 7,
   "metadata": {},
   "outputs": [
    {
     "name": "stdout",
     "output_type": "stream",
     "text": [
      "Data generation complete. File saved as 'customer_behavior_data.csv'\n"
     ]
    }
   ],
   "source": [
    "df.to_csv('customer_behavior_data.csv', index=False)\n",
    "\n",
    "print(\"Data generation complete. File saved as 'customer_behavior_data.csv'\")"
   ]
  },
  {
   "cell_type": "code",
   "execution_count": null,
   "metadata": {},
   "outputs": [],
   "source": []
  }
 ],
 "metadata": {
  "kernelspec": {
   "display_name": "practice",
   "language": "python",
   "name": "python3"
  },
  "language_info": {
   "codemirror_mode": {
    "name": "ipython",
    "version": 3
   },
   "file_extension": ".py",
   "mimetype": "text/x-python",
   "name": "python",
   "nbconvert_exporter": "python",
   "pygments_lexer": "ipython3",
   "version": "3.9.19"
  }
 },
 "nbformat": 4,
 "nbformat_minor": 2
}

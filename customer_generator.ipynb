{
 "cells": [
  {
   "cell_type": "code",
   "execution_count": 1,
   "metadata": {},
   "outputs": [],
   "source": [
    "import numpy as np\n",
    "import pandas as pd\n",
    "import random\n",
    "import string\n",
    "from datetime import datetime, timedelta\n",
    "from faker import Faker"
   ]
  },
  {
   "cell_type": "code",
   "execution_count": 2,
   "metadata": {},
   "outputs": [],
   "source": [
    "# Helper functions for numeric data\n",
    "def generate_integers(size, low=0, high=100):\n",
    "    return np.random.randint(low, high, size)\n",
    "\n",
    "def generate_floats(size, low=0.0, high=1.0, distribution='uniform'):\n",
    "    if distribution == 'uniform':\n",
    "        return np.random.uniform(low, high, size)\n",
    "    elif distribution == 'normal':\n",
    "        mean = (high + low) / 2\n",
    "        stddev = (high - low) / 6  # approx 99.7% data within range\n",
    "        return np.random.normal(mean, stddev, size)"
   ]
  },
  {
   "cell_type": "code",
   "execution_count": 3,
   "metadata": {},
   "outputs": [],
   "source": [
    "# Helper functions for string data\n",
    "def generate_random_strings(size, length=10):\n",
    "    return [''.join(random.choices(string.ascii_letters, k=length)) for _ in range(size)]\n",
    "\n",
    "def generate_names(size):\n",
    "    return [fake.name() for _ in range(size)]\n",
    "\n",
    "def generate_emails(size):\n",
    "    return [fake.email() for _ in range(size)]\n",
    "\n",
    "def generate_addresses(size):\n",
    "    return [fake.address().replace('\\n', ', ') for _ in range(size)]\n",
    "\n",
    "def generate_phone_numbers(size):\n",
    "    return [fake.phone_number() for _ in range(size)]"
   ]
  },
  {
   "cell_type": "code",
   "execution_count": null,
   "metadata": {},
   "outputs": [],
   "source": []
  }
 ],
 "metadata": {
  "kernelspec": {
   "display_name": "practice",
   "language": "python",
   "name": "python3"
  },
  "language_info": {
   "codemirror_mode": {
    "name": "ipython",
    "version": 3
   },
   "file_extension": ".py",
   "mimetype": "text/x-python",
   "name": "python",
   "nbconvert_exporter": "python",
   "pygments_lexer": "ipython3",
   "version": "3.9.19"
  }
 },
 "nbformat": 4,
 "nbformat_minor": 2
}

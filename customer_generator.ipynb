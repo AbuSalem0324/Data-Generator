{
 "cells": [
  {
   "cell_type": "code",
   "execution_count": 29,
   "metadata": {},
   "outputs": [],
   "source": [
    "import numpy as np\n",
    "import pandas as pd\n",
    "import random\n",
    "import string\n",
    "from datetime import datetime, timedelta\n",
    "from faker import Faker\n",
    "fake = Faker()"
   ]
  },
  {
   "cell_type": "code",
   "execution_count": 30,
   "metadata": {},
   "outputs": [],
   "source": [
    "# Helper functions for numeric data\n",
    "def generate_integers(size, low=0, high=100):\n",
    "    return np.random.randint(low, high, size)\n",
    "\n",
    "def generate_floats(size, low=0.0, high=1.0, distribution='uniform'):\n",
    "    if distribution == 'uniform':\n",
    "        return np.random.uniform(low, high, size)\n",
    "    elif distribution == 'normal':\n",
    "        mean = (high + low) / 2\n",
    "        stddev = (high - low) / 6  # approx 99.7% data within range\n",
    "        return np.random.normal(mean, stddev, size)"
   ]
  },
  {
   "cell_type": "code",
   "execution_count": 31,
   "metadata": {},
   "outputs": [],
   "source": [
    "# Helper functions for string data\n",
    "def generate_random_strings(size, length=10):\n",
    "    return [''.join(random.choices(string.ascii_letters, k=length)) for _ in range(size)]\n",
    "\n",
    "def generate_names(size):\n",
    "    return [fake.name() for _ in range(size)]\n",
    "\n",
    "def generate_emails(size):\n",
    "    return [fake.email() for _ in range(size)]\n",
    "\n",
    "def generate_addresses(size):\n",
    "    return [fake.address().replace('\\n', ', ') for _ in range(size)]\n",
    "\n",
    "def generate_phone_numbers(size):\n",
    "    return [fake.phone_number() for _ in range(size)]"
   ]
  },
  {
   "cell_type": "code",
   "execution_count": 32,
   "metadata": {},
   "outputs": [],
   "source": [
    "# Helper functions for categorical data\n",
    "def generate_categories(size, categories):\n",
    "    return np.random.choice(categories, size)"
   ]
  },
  {
   "cell_type": "code",
   "execution_count": 33,
   "metadata": {},
   "outputs": [],
   "source": [
    "# Helper functions for datetime data\n",
    "def generate_datetimes(size, start, end):\n",
    "    start_u = start.timestamp()\n",
    "    end_u = end.timestamp()\n",
    "    return [datetime.fromtimestamp(random.uniform(start_u, end_u)) for _ in range(size)]"
   ]
  },
  {
   "cell_type": "code",
   "execution_count": 34,
   "metadata": {},
   "outputs": [],
   "source": [
    "# Helper functions for generating customer data\n",
    "def generate_customer_ids(size):\n",
    "    return [f\"CUST{str(i).zfill(5)}\" for i in range(1, size+1)]"
   ]
  },
  {
   "cell_type": "code",
   "execution_count": 35,
   "metadata": {},
   "outputs": [],
   "source": [
    "def generate_customer_data(num_customers):\n",
    "    data = {\n",
    "        'customer_id': generate_customer_ids(num_customers),\n",
    "        'name': generate_names(num_customers),\n",
    "        'email': generate_emails(num_customers),\n",
    "        'address': generate_addresses(num_customers),\n",
    "        'phone_number': generate_phone_numbers(num_customers),\n",
    "        'registration_date': generate_datetimes(num_customers, datetime(2000, 1, 1), datetime(2022, 12, 31)),\n",
    "    }\n",
    "    return pd.DataFrame(data)"
   ]
  },
  {
   "cell_type": "code",
   "execution_count": 36,
   "metadata": {},
   "outputs": [],
   "source": [
    "# Helper functions for generating sales data\n",
    "def generate_sales_data(num_sales, customer_ids):\n",
    "    data = {\n",
    "        'sale_id': [f\"SALE{str(i).zfill(5)}\" for i in range(1, num_sales+1)],\n",
    "        'customer_id': np.random.choice(customer_ids, num_sales),\n",
    "        'sale_amount': generate_floats(num_sales, 10.0, 1000.0, 'normal'),\n",
    "        'sale_date': generate_datetimes(num_sales, datetime(2020, 1, 1), datetime(2022, 12, 31)),\n",
    "        'product_category': generate_categories(num_sales, ['Electronics', 'Clothing', 'Books', 'Home', 'Toys']),\n",
    "    }\n",
    "    return pd.DataFrame(data)"
   ]
  },
  {
   "cell_type": "code",
   "execution_count": 37,
   "metadata": {},
   "outputs": [],
   "source": [
    "def generate_datasets(num_customers, num_sales):\n",
    "    customer_data = generate_customer_data(num_customers)\n",
    "    sales_data = generate_sales_data(num_sales, customer_data['customer_id'].tolist())\n",
    "    return customer_data, sales_data\n"
   ]
  },
  {
   "cell_type": "code",
   "execution_count": 38,
   "metadata": {},
   "outputs": [],
   "source": [
    "num_customers = 100\n",
    "num_sales = 800"
   ]
  },
  {
   "cell_type": "code",
   "execution_count": 39,
   "metadata": {},
   "outputs": [],
   "source": [
    "customer_df, sales_df = generate_datasets(num_customers, num_sales)\n"
   ]
  },
  {
   "cell_type": "code",
   "execution_count": 40,
   "metadata": {},
   "outputs": [
    {
     "name": "stdout",
     "output_type": "stream",
     "text": [
      "<class 'pandas.core.frame.DataFrame'>\n",
      "RangeIndex: 100 entries, 0 to 99\n",
      "Data columns (total 6 columns):\n",
      " #   Column             Non-Null Count  Dtype         \n",
      "---  ------             --------------  -----         \n",
      " 0   customer_id        100 non-null    object        \n",
      " 1   name               100 non-null    object        \n",
      " 2   email              100 non-null    object        \n",
      " 3   address            100 non-null    object        \n",
      " 4   phone_number       100 non-null    object        \n",
      " 5   registration_date  100 non-null    datetime64[ns]\n",
      "dtypes: datetime64[ns](1), object(5)\n",
      "memory usage: 4.8+ KB\n"
     ]
    }
   ],
   "source": [
    "customer_df.info()"
   ]
  },
  {
   "cell_type": "code",
   "execution_count": 42,
   "metadata": {},
   "outputs": [
    {
     "name": "stdout",
     "output_type": "stream",
     "text": [
      "<class 'pandas.core.frame.DataFrame'>\n",
      "RangeIndex: 800 entries, 0 to 799\n",
      "Data columns (total 5 columns):\n",
      " #   Column            Non-Null Count  Dtype         \n",
      "---  ------            --------------  -----         \n",
      " 0   sale_id           800 non-null    object        \n",
      " 1   customer_id       800 non-null    object        \n",
      " 2   sale_amount       800 non-null    float64       \n",
      " 3   sale_date         800 non-null    datetime64[ns]\n",
      " 4   product_category  800 non-null    object        \n",
      "dtypes: datetime64[ns](1), float64(1), object(3)\n",
      "memory usage: 31.4+ KB\n"
     ]
    }
   ],
   "source": [
    "sales_df.info()"
   ]
  },
  {
   "cell_type": "code",
   "execution_count": null,
   "metadata": {},
   "outputs": [
    {
     "name": "stdout",
     "output_type": "stream",
     "text": [
      "Customer Data:\n",
      "  customer_id              name                       email  \\\n",
      "0   CUST00001  Heather Matthews     biancamoyer@example.net   \n",
      "1   CUST00002  Brittany Burgess      jonathan46@example.com   \n",
      "2   CUST00003     Kenneth Brown  hoffmanstephen@example.com   \n",
      "3   CUST00004   Frederick Moore         ltaylor@example.net   \n",
      "4   CUST00005       Sara Bright          dbowen@example.org   \n",
      "\n",
      "                                             address        phone_number  \\\n",
      "0  26162 Gonzalez Rapids Suite 848, Larryshire, S...          9343570083   \n",
      "1                   Unit 6922 Box 4320, DPO AP 89206    346.469.0181x784   \n",
      "2  9585 Brown Extension Suite 300, Amyport, OK 24557       (701)245-3750   \n",
      "3  37987 Ho Gateway Suite 262, South Christopher,...  326.485.2453x63981   \n",
      "4                   Unit 3007 Box 1762, DPO AP 35378       (285)838-8374   \n",
      "\n",
      "           registration_date  \n",
      "0 2006-01-07 00:23:10.390119  \n",
      "1 2007-02-10 06:10:56.693214  \n",
      "2 2013-02-04 10:35:17.887422  \n",
      "3 2014-06-04 02:16:55.388605  \n",
      "4 2020-07-01 22:49:52.422195  \n",
      "\n",
      "Sales Data:\n",
      "     sale_id customer_id  sale_amount                  sale_date  \\\n",
      "0  SALE00001   CUST00058   386.812389 2022-07-26 15:18:48.768627   \n",
      "1  SALE00002   CUST00070   544.838905 2021-11-06 05:52:11.574063   \n",
      "2  SALE00003   CUST00063   446.662740 2022-03-22 05:50:22.510788   \n",
      "3  SALE00004   CUST00062   679.450485 2020-07-18 09:40:27.308053   \n",
      "4  SALE00005   CUST00089   355.781931 2022-03-27 06:51:46.023462   \n",
      "\n",
      "  product_category  \n",
      "0             Home  \n",
      "1            Books  \n",
      "2             Home  \n",
      "3         Clothing  \n",
      "4             Home  \n"
     ]
    }
   ],
   "source": [
    "\n",
    "print(\"Customer Data:\")\n",
    "print(customer_df.head())\n",
    "print(\"\\nSales Data:\")\n",
    "print(sales_df.head())"
   ]
  },
  {
   "cell_type": "code",
   "execution_count": null,
   "metadata": {},
   "outputs": [],
   "source": []
  }
 ],
 "metadata": {
  "kernelspec": {
   "display_name": "practice",
   "language": "python",
   "name": "python3"
  },
  "language_info": {
   "codemirror_mode": {
    "name": "ipython",
    "version": 3
   },
   "file_extension": ".py",
   "mimetype": "text/x-python",
   "name": "python",
   "nbconvert_exporter": "python",
   "pygments_lexer": "ipython3",
   "version": "3.9.19"
  }
 },
 "nbformat": 4,
 "nbformat_minor": 2
}
